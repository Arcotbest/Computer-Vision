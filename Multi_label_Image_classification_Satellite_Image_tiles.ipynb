{
  "nbformat": 4,
  "nbformat_minor": 0,
  "metadata": {
    "kernelspec": {
      "name": "python3",
      "display_name": "Python 3"
    },
    "language_info": {
      "codemirror_mode": {
        "name": "ipython",
        "version": 3
      },
      "file_extension": ".py",
      "mimetype": "text/x-python",
      "name": "python",
      "nbconvert_exporter": "python",
      "pygments_lexer": "ipython3",
      "version": "3.6.9"
    },
    "colab": {
      "name": "Multi label Image classification - Satellite Image tiles.ipynb",
      "provenance": [],
      "collapsed_sections": [
        "VPTs0-cesLsl",
        "sjf_5T4ZsLsl",
        "juXN9uSIsLs-",
        "w30pqy_fsLua",
        "UvqiOCxnsLvr",
        "JZLFySOysLwJ",
        "iozyMrflsLwp"
      ]
    },
    "accelerator": "GPU"
  },
  "cells": [
    {
      "cell_type": "markdown",
      "metadata": {
        "id": "OvAzYQa0sLrj",
        "colab_type": "text"
      },
      "source": [
        "<a href=\"https://colab.research.google.com/github/Tessellate-Imaging/monk_v1/blob/master/study_roadmaps/4_image_classification_zoo/Multi%20label%20Image%20classification%20-%20Satellite%20Image%20tiles.ipynb\" target=\"_parent\"><img src=\"https://colab.research.google.com/assets/colab-badge.svg\" alt=\"Open In Colab\"/></a>"
      ]
    },
    {
      "cell_type": "markdown",
      "metadata": {
        "id": "0EagiYOZsLry",
        "colab_type": "text"
      },
      "source": [
        "## Table of Contents\n",
        "\n",
        "\n",
        "## [0. Download Dataset](#0)\n",
        "\n",
        "\n",
        "## [1. Install Monk](#1)\n",
        "\n",
        "\n",
        "## [2. Train a multi-label classifier](#2)\n",
        "\n",
        "\n",
        "## [3. Run Inference on multiple images](#3)\n",
        "\n",
        "\n",
        "## [4. Validate the trained classifier](#4)\n",
        "\n",
        "\n",
        "## [5. Run Inference on Test dataset for submission in competition](#5)"
      ]
    },
    {
      "cell_type": "code",
      "metadata": {
        "id": "tbOLOLxnsLrz",
        "colab_type": "code",
        "colab": {}
      },
      "source": [
        ""
      ],
      "execution_count": 0,
      "outputs": []
    },
    {
      "cell_type": "code",
      "metadata": {
        "id": "zy67QCJGsLr2",
        "colab_type": "code",
        "colab": {}
      },
      "source": [
        ""
      ],
      "execution_count": 0,
      "outputs": []
    },
    {
      "cell_type": "markdown",
      "metadata": {
        "id": "yf4I792FsLr6",
        "colab_type": "text"
      },
      "source": [
        "<a id='0'></a>\n",
        "# Dataset Details\n",
        "\n",
        "- Credits: https://www.kaggle.com/c/planet-understanding-the-amazon-from-space"
      ]
    },
    {
      "cell_type": "markdown",
      "metadata": {
        "id": "fHIpxiqk8NTE",
        "colab_type": "text"
      },
      "source": [
        "          We imort the data for this project"
      ]
    },
    {
      "cell_type": "code",
      "metadata": {
        "id": "gCiwkO7UsLr8",
        "colab_type": "code",
        "outputId": "5179d064-78af-4820-acd7-f150790dfec3",
        "colab": {
          "base_uri": "https://localhost:8080/",
          "height": 625
        }
      },
      "source": [
        "! wget --load-cookies /tmp/cookies.txt \"https://docs.google.com/uc?export=download&confirm=$(wget --save-cookies /tmp/cookies.txt --keep-session-cookies --no-check-certificate 'https://docs.google.com/uc?export=download&id=12ia20erQXTmJTk1zj1pZ_VeCPViyAQvm' -O- | sed -rn 's/.*confirm=([0-9A-Za-z_]+).*/\\1\\n/p')&id=12ia20erQXTmJTk1zj1pZ_VeCPViyAQvm\" -O satellite_cls.zip && rm -rf /tmp/cookies.txt"
      ],
      "execution_count": 5,
      "outputs": [
        {
          "output_type": "stream",
          "text": [
            "--2020-04-17 02:24:25--  https://docs.google.com/uc?export=download&id=12ia20erQXTmJTk1zj1pZ_VeCPViyAQvm\n",
            "Resolving docs.google.com (docs.google.com)... 74.125.197.113, 74.125.197.101, 74.125.197.102, ...\n",
            "Connecting to docs.google.com (docs.google.com)|74.125.197.113|:443... connected.\n",
            "HTTP request sent, awaiting response... 200 OK\n",
            "Length: unspecified [text/html]\n",
            "Saving to: ‘STDOUT’\n",
            "\n",
            "\r-                       [<=>                 ]       0  --.-KB/s               \r-                       [ <=>                ]   3.18K  --.-KB/s    in 0s      \n",
            "\n",
            "2020-04-17 02:24:25 (70.6 MB/s) - written to stdout [3253]\n",
            "\n",
            "--2020-04-17 02:24:25--  https://docs.google.com/uc?export=download&confirm=GK_J&id=12ia20erQXTmJTk1zj1pZ_VeCPViyAQvm\n",
            "Resolving docs.google.com (docs.google.com)... 74.125.20.102, 74.125.20.139, 74.125.20.101, ...\n",
            "Connecting to docs.google.com (docs.google.com)|74.125.20.102|:443... connected.\n",
            "HTTP request sent, awaiting response... 302 Moved Temporarily\n",
            "Location: https://doc-0g-b8-docs.googleusercontent.com/docs/securesc/rvpidbv5h5ls00qtuj4vv1c3u8pmgssn/0o9oisvor3b39cp3gb06fmj7060vpsvq/1587090225000/18043786932472961547/15426683694345920510Z/12ia20erQXTmJTk1zj1pZ_VeCPViyAQvm?e=download [following]\n",
            "--2020-04-17 02:24:26--  https://doc-0g-b8-docs.googleusercontent.com/docs/securesc/rvpidbv5h5ls00qtuj4vv1c3u8pmgssn/0o9oisvor3b39cp3gb06fmj7060vpsvq/1587090225000/18043786932472961547/15426683694345920510Z/12ia20erQXTmJTk1zj1pZ_VeCPViyAQvm?e=download\n",
            "Resolving doc-0g-b8-docs.googleusercontent.com (doc-0g-b8-docs.googleusercontent.com)... 74.125.197.132, 2607:f8b0:400e:c03::84\n",
            "Connecting to doc-0g-b8-docs.googleusercontent.com (doc-0g-b8-docs.googleusercontent.com)|74.125.197.132|:443... connected.\n",
            "HTTP request sent, awaiting response... 302 Found\n",
            "Location: https://docs.google.com/nonceSigner?nonce=dekacn2gboqb4&continue=https://doc-0g-b8-docs.googleusercontent.com/docs/securesc/rvpidbv5h5ls00qtuj4vv1c3u8pmgssn/0o9oisvor3b39cp3gb06fmj7060vpsvq/1587090225000/18043786932472961547/15426683694345920510Z/12ia20erQXTmJTk1zj1pZ_VeCPViyAQvm?e%3Ddownload&hash=jmh642skuqvdgbd612v52060uq7ghj1h [following]\n",
            "--2020-04-17 02:24:26--  https://docs.google.com/nonceSigner?nonce=dekacn2gboqb4&continue=https://doc-0g-b8-docs.googleusercontent.com/docs/securesc/rvpidbv5h5ls00qtuj4vv1c3u8pmgssn/0o9oisvor3b39cp3gb06fmj7060vpsvq/1587090225000/18043786932472961547/15426683694345920510Z/12ia20erQXTmJTk1zj1pZ_VeCPViyAQvm?e%3Ddownload&hash=jmh642skuqvdgbd612v52060uq7ghj1h\n",
            "Connecting to docs.google.com (docs.google.com)|74.125.20.102|:443... connected.\n",
            "HTTP request sent, awaiting response... 302 Found\n",
            "Location: https://doc-0g-b8-docs.googleusercontent.com/docs/securesc/rvpidbv5h5ls00qtuj4vv1c3u8pmgssn/0o9oisvor3b39cp3gb06fmj7060vpsvq/1587090225000/18043786932472961547/15426683694345920510Z/12ia20erQXTmJTk1zj1pZ_VeCPViyAQvm?e=download&nonce=dekacn2gboqb4&user=15426683694345920510Z&hash=d6vqtudr6mqjudpialtbcbvl7calfnn1 [following]\n",
            "--2020-04-17 02:24:26--  https://doc-0g-b8-docs.googleusercontent.com/docs/securesc/rvpidbv5h5ls00qtuj4vv1c3u8pmgssn/0o9oisvor3b39cp3gb06fmj7060vpsvq/1587090225000/18043786932472961547/15426683694345920510Z/12ia20erQXTmJTk1zj1pZ_VeCPViyAQvm?e=download&nonce=dekacn2gboqb4&user=15426683694345920510Z&hash=d6vqtudr6mqjudpialtbcbvl7calfnn1\n",
            "Connecting to doc-0g-b8-docs.googleusercontent.com (doc-0g-b8-docs.googleusercontent.com)|74.125.197.132|:443... connected.\n",
            "HTTP request sent, awaiting response... 200 OK\n",
            "Length: unspecified [application/zip]\n",
            "Saving to: ‘satellite_cls.zip’\n",
            "\n",
            "satellite_cls.zip       [  <=>               ]   1.50G  40.9MB/s    in 17s     \n",
            "\n",
            "2020-04-17 02:24:43 (92.8 MB/s) - ‘satellite_cls.zip’ saved [1613475974]\n",
            "\n"
          ],
          "name": "stdout"
        }
      ]
    },
    {
      "cell_type": "code",
      "metadata": {
        "id": "xAMm853WsLr_",
        "colab_type": "code",
        "colab": {
          "base_uri": "https://localhost:8080/",
          "height": 67
        },
        "outputId": "90fd5538-d3d4-49d2-b403-302d7818334c"
      },
      "source": [
        "! unzip -qq satellite_cls.zip"
      ],
      "execution_count": 6,
      "outputs": [
        {
          "output_type": "stream",
          "text": [
            "replace satellite_cls/test.csv? [y]es, [n]o, [A]ll, [N]one, [r]ename: A\n",
            "A\n",
            "\n"
          ],
          "name": "stdout"
        }
      ]
    },
    {
      "cell_type": "code",
      "metadata": {
        "id": "VKXlu04ssLsE",
        "colab_type": "code",
        "colab": {}
      },
      "source": [
        ""
      ],
      "execution_count": 0,
      "outputs": []
    },
    {
      "cell_type": "code",
      "metadata": {
        "id": "gygoraHvsLsI",
        "colab_type": "code",
        "colab": {}
      },
      "source": [
        ""
      ],
      "execution_count": 0,
      "outputs": []
    },
    {
      "cell_type": "markdown",
      "metadata": {
        "id": "fXfLuhnWsLsN",
        "colab_type": "text"
      },
      "source": [
        "<a id='0'></a>\n",
        "# Install Monk\n",
        "  \n",
        " - git clone https://github.com/Tessellate-Imaging/monk_v1.git\n",
        " \n",
        " - cd monk_v1/installation/Linux && pip install -r requirements_cu9.txt\n",
        "     - (Select the requirements file as per OS and CUDA version)"
      ]
    },
    {
      "cell_type": "code",
      "metadata": {
        "id": "sWeOiigxsLsP",
        "colab_type": "code",
        "outputId": "7277a1e7-c154-4ea4-fd08-07ea0a48b9d3",
        "colab": {
          "base_uri": "https://localhost:8080/",
          "height": 134
        }
      },
      "source": [
        "!git clone https://github.com/Tessellate-Imaging/monk_v1.git"
      ],
      "execution_count": 1,
      "outputs": [
        {
          "output_type": "stream",
          "text": [
            "Cloning into 'monk_v1'...\n",
            "remote: Enumerating objects: 171, done.\u001b[K\n",
            "remote: Counting objects: 100% (171/171), done.\u001b[K\n",
            "remote: Compressing objects: 100% (122/122), done.\u001b[K\n",
            "remote: Total 3919 (delta 96), reused 96 (delta 48), pack-reused 3748\u001b[K\n",
            "Receiving objects: 100% (3919/3919), 114.62 MiB | 31.94 MiB/s, done.\n",
            "Resolving deltas: 100% (2363/2363), done.\n"
          ],
          "name": "stdout"
        }
      ]
    },
    {
      "cell_type": "code",
      "metadata": {
        "id": "M1jBeIc8sLsU",
        "colab_type": "code",
        "colab": {}
      },
      "source": [
        ""
      ],
      "execution_count": 0,
      "outputs": []
    },
    {
      "cell_type": "code",
      "metadata": {
        "id": "VAIWbmfysLsX",
        "colab_type": "code",
        "outputId": "32c6be83-6ff6-4472-808a-f2a09340faea",
        "colab": {
          "base_uri": "https://localhost:8080/",
          "height": 692
        }
      },
      "source": [
        "# If using Colab install using the commands below\n",
        "!cd monk_v1/installation/Misc && pip install -r requirements_colab.txt\n",
        "\n",
        "# If using Kaggle uncomment the following command\n",
        "#!cd monk_v1/installation/Misc && pip install -r requirements_kaggle.txt\n",
        "\n",
        "# Select the requirements file as per OS and CUDA version when using a local system or cloud\n",
        "#!cd monk_v1/installation/Linux && pip install -r requirements_cu9.txt"
      ],
      "execution_count": 2,
      "outputs": [
        {
          "output_type": "stream",
          "text": [
            "Collecting GPUtil\n",
            "  Downloading https://files.pythonhosted.org/packages/ed/0e/5c61eedde9f6c87713e89d794f01e378cfd9565847d4576fa627d758c554/GPUtil-1.4.0.tar.gz\n",
            "Collecting mxnet-cu101\n",
            "\u001b[?25l  Downloading https://files.pythonhosted.org/packages/54/b1/7d01abca10eef104296d2b3f0c59a7dda7573126d079c9e2609e6c17993b/mxnet_cu101-1.6.0-py2.py3-none-manylinux1_x86_64.whl (710.5MB)\n",
            "\u001b[K     |████████████████████████████████| 710.5MB 26kB/s \n",
            "\u001b[?25hCollecting pylg\n",
            "  Downloading https://files.pythonhosted.org/packages/6c/15/20e454f122d87e4088803be527de8566468608c55645b573f702e11cb63c/PyLg-1.3.3-py3-none-any.whl\n",
            "Collecting gluoncv\n",
            "\u001b[?25l  Downloading https://files.pythonhosted.org/packages/69/4d/d9d6b9261af8f7251977bb97be669a3908f72bdec9d3597e527712d384c2/gluoncv-0.6.0-py2.py3-none-any.whl (693kB)\n",
            "\u001b[K     |████████████████████████████████| 696kB 53.0MB/s \n",
            "\u001b[?25hCollecting graphviz<0.9.0,>=0.8.1\n",
            "  Downloading https://files.pythonhosted.org/packages/53/39/4ab213673844e0c004bed8a0781a0721a3f6bb23eb8854ee75c236428892/graphviz-0.8.4-py2.py3-none-any.whl\n",
            "Requirement already satisfied: requests<3,>=2.20.0 in /usr/local/lib/python3.6/dist-packages (from mxnet-cu101->-r requirements_colab.txt (line 2)) (2.21.0)\n",
            "Requirement already satisfied: numpy<2.0.0,>1.16.0 in /usr/local/lib/python3.6/dist-packages (from mxnet-cu101->-r requirements_colab.txt (line 2)) (1.18.2)\n",
            "Collecting portalocker\n",
            "  Downloading https://files.pythonhosted.org/packages/53/84/7b3146ec6378d28abc73ab484f09f47dfa008ad6f03f33d90a369f880e25/portalocker-1.7.0-py2.py3-none-any.whl\n",
            "Requirement already satisfied: scipy in /usr/local/lib/python3.6/dist-packages (from gluoncv->-r requirements_colab.txt (line 4)) (1.4.1)\n",
            "Requirement already satisfied: Pillow in /usr/local/lib/python3.6/dist-packages (from gluoncv->-r requirements_colab.txt (line 4)) (7.0.0)\n",
            "Requirement already satisfied: matplotlib in /usr/local/lib/python3.6/dist-packages (from gluoncv->-r requirements_colab.txt (line 4)) (3.2.1)\n",
            "Requirement already satisfied: tqdm in /usr/local/lib/python3.6/dist-packages (from gluoncv->-r requirements_colab.txt (line 4)) (4.38.0)\n",
            "Requirement already satisfied: certifi>=2017.4.17 in /usr/local/lib/python3.6/dist-packages (from requests<3,>=2.20.0->mxnet-cu101->-r requirements_colab.txt (line 2)) (2020.4.5.1)\n",
            "Requirement already satisfied: urllib3<1.25,>=1.21.1 in /usr/local/lib/python3.6/dist-packages (from requests<3,>=2.20.0->mxnet-cu101->-r requirements_colab.txt (line 2)) (1.24.3)\n",
            "Requirement already satisfied: idna<2.9,>=2.5 in /usr/local/lib/python3.6/dist-packages (from requests<3,>=2.20.0->mxnet-cu101->-r requirements_colab.txt (line 2)) (2.8)\n",
            "Requirement already satisfied: chardet<3.1.0,>=3.0.2 in /usr/local/lib/python3.6/dist-packages (from requests<3,>=2.20.0->mxnet-cu101->-r requirements_colab.txt (line 2)) (3.0.4)\n",
            "Requirement already satisfied: python-dateutil>=2.1 in /usr/local/lib/python3.6/dist-packages (from matplotlib->gluoncv->-r requirements_colab.txt (line 4)) (2.8.1)\n",
            "Requirement already satisfied: kiwisolver>=1.0.1 in /usr/local/lib/python3.6/dist-packages (from matplotlib->gluoncv->-r requirements_colab.txt (line 4)) (1.2.0)\n",
            "Requirement already satisfied: pyparsing!=2.0.4,!=2.1.2,!=2.1.6,>=2.0.1 in /usr/local/lib/python3.6/dist-packages (from matplotlib->gluoncv->-r requirements_colab.txt (line 4)) (2.4.7)\n",
            "Requirement already satisfied: cycler>=0.10 in /usr/local/lib/python3.6/dist-packages (from matplotlib->gluoncv->-r requirements_colab.txt (line 4)) (0.10.0)\n",
            "Requirement already satisfied: six>=1.5 in /usr/local/lib/python3.6/dist-packages (from python-dateutil>=2.1->matplotlib->gluoncv->-r requirements_colab.txt (line 4)) (1.12.0)\n",
            "Building wheels for collected packages: GPUtil\n",
            "  Building wheel for GPUtil (setup.py) ... \u001b[?25l\u001b[?25hdone\n",
            "  Created wheel for GPUtil: filename=GPUtil-1.4.0-cp36-none-any.whl size=7413 sha256=c7e29901160d36025bea597a762d571c21a270d5da0588202cd7dc5d70fd91e3\n",
            "  Stored in directory: /root/.cache/pip/wheels/3d/77/07/80562de4bb0786e5ea186911a2c831fdd0018bda69beab71fd\n",
            "Successfully built GPUtil\n",
            "Installing collected packages: GPUtil, graphviz, mxnet-cu101, pylg, portalocker, gluoncv\n",
            "  Found existing installation: graphviz 0.10.1\n",
            "    Uninstalling graphviz-0.10.1:\n",
            "      Successfully uninstalled graphviz-0.10.1\n",
            "Successfully installed GPUtil-1.4.0 gluoncv-0.6.0 graphviz-0.8.4 mxnet-cu101-1.6.0 portalocker-1.7.0 pylg-1.3.3\n"
          ],
          "name": "stdout"
        }
      ]
    },
    {
      "cell_type": "markdown",
      "metadata": {
        "id": "VPTs0-cesLsl",
        "colab_type": "text"
      },
      "source": [
        "<a id='1'></a>\n",
        "# Train the classifier"
      ]
    },
    {
      "cell_type": "markdown",
      "metadata": {
        "id": "sjf_5T4ZsLsl",
        "colab_type": "text"
      },
      "source": [
        "## Imports"
      ]
    },
    {
      "cell_type": "code",
      "metadata": {
        "id": "7UEJzFCBsLsm",
        "colab_type": "code",
        "colab": {}
      },
      "source": [
        "import os\n",
        "import sys\n",
        "sys.path.append(\"monk_v1/monk/\");"
      ],
      "execution_count": 0,
      "outputs": []
    },
    {
      "cell_type": "code",
      "metadata": {
        "id": "wk5DynKpsLso",
        "colab_type": "code",
        "colab": {}
      },
      "source": [
        ""
      ],
      "execution_count": 0,
      "outputs": []
    },
    {
      "cell_type": "code",
      "metadata": {
        "id": "qlJOKdLKsLsu",
        "colab_type": "code",
        "colab": {}
      },
      "source": [
        "#Using mxnet-gluon backend \n",
        "from gluon_prototype import prototype"
      ],
      "execution_count": 0,
      "outputs": []
    },
    {
      "cell_type": "code",
      "metadata": {
        "id": "IEcczPtZsLsw",
        "colab_type": "code",
        "colab": {}
      },
      "source": [
        ""
      ],
      "execution_count": 0,
      "outputs": []
    },
    {
      "cell_type": "code",
      "metadata": {
        "id": "qmFtK7K0sLsz",
        "colab_type": "code",
        "outputId": "cd0306a6-8eb2-48a9-9548-d51311f306cb",
        "colab": {
          "base_uri": "https://localhost:8080/",
          "height": 134
        }
      },
      "source": [
        "#Create project and experiment\n",
        "ptf = prototype(verbose=1);\n",
        "ptf.Prototype(\"sample-project-1\", \"sample-experiment-1\");"
      ],
      "execution_count": 0,
      "outputs": [
        {
          "output_type": "stream",
          "text": [
            "Mxnet Version: 1.6.0\n",
            "\n",
            "Experiment Details\n",
            "    Project: sample-project-1\n",
            "    Experiment: sample-experiment-1\n",
            "    Dir: /content/workspace/sample-project-1/sample-experiment-1/\n",
            "\n"
          ],
          "name": "stdout"
        }
      ]
    },
    {
      "cell_type": "code",
      "metadata": {
        "id": "-ZCTgenNsLs2",
        "colab_type": "code",
        "colab": {}
      },
      "source": [
        ""
      ],
      "execution_count": 0,
      "outputs": []
    },
    {
      "cell_type": "code",
      "metadata": {
        "id": "Z5Jr126jsLs5",
        "colab_type": "code",
        "colab": {}
      },
      "source": [
        ""
      ],
      "execution_count": 0,
      "outputs": []
    },
    {
      "cell_type": "code",
      "metadata": {
        "id": "WEk_b8BtsLs7",
        "colab_type": "code",
        "colab": {}
      },
      "source": [
        ""
      ],
      "execution_count": 0,
      "outputs": []
    },
    {
      "cell_type": "markdown",
      "metadata": {
        "id": "juXN9uSIsLs-",
        "colab_type": "text"
      },
      "source": [
        "## Dataset folder structure\n",
        "\n",
        "    parent_directory\n",
        "        |\n",
        "        |\n",
        "        |------train (folder can be named anything)\n",
        "                |------img1.jpg\n",
        "                |------img2.jpg\n",
        "                |------.... (and so on)\n",
        "        |\n",
        "        |------train_labels.csv (file can be named anything)\n",
        "        \n",
        "        \n",
        "    train_labels.csv has 2 columns (column names could be anything)\n",
        "        - ID                 | Labels\n",
        "          img1.jpg           |  agriculture cloudy\n",
        "          img2.jpg           |  forest hazy\n",
        "          img3.jpg           |  road forest rains\n",
        "          img4.jpg           |  city\n",
        "                ..... (and so on)\n",
        "                \n",
        "### In similar fashion you can structure your own dataset"
      ]
    },
    {
      "cell_type": "code",
      "metadata": {
        "id": "K42PpPtcsLs-",
        "colab_type": "code",
        "outputId": "a3e6c47d-7478-4280-dce6-6d5b37aea0b2",
        "colab": {
          "base_uri": "https://localhost:8080/",
          "height": 339
        }
      },
      "source": [
        "#Set data parameters\n",
        "\n",
        "ptf.Dataset_Params(dataset_path=\"satellite_cls/train-jpg\",\n",
        "                   path_to_csv=\"satellite_cls/train.csv\",\n",
        "                   \n",
        "                   \n",
        "                   delimiter = \" \",\n",
        "                   \n",
        "                   \n",
        "                   split=0.9,\n",
        "                   input_size=224, \n",
        "                   batch_size=16, \n",
        "                   shuffle_data=True,\n",
        "                   num_processors=3);"
      ],
      "execution_count": 0,
      "outputs": [
        {
          "output_type": "stream",
          "text": [
            "Dataset Details\n",
            "    Train path:     satellite_cls/train-jpg\n",
            "    Val path:       None\n",
            "    CSV train path: satellite_cls/train.csv\n",
            "    CSV val path:   None\n",
            "    Label Type:     multiple\n",
            "\n",
            "Dataset Params\n",
            "    Input Size:   224\n",
            "    Batch Size:   16\n",
            "    Data Shuffle: True\n",
            "    Processors:   3\n",
            "    Train-val split:   0.9\n",
            "    Delimiter:    \n",
            "\n"
          ],
          "name": "stdout"
        },
        {
          "output_type": "stream",
          "text": [
            "monk_v1/monk/system/imports.py:160: UserWarning: Constraint Mismatch for argument name \"num_processors\" in function \"Dataset_Params\".\n",
            "Value expected to be less than equal to \"2\", but is \"3\"\n",
            "  warnings.warn(msg)\n"
          ],
          "name": "stderr"
        }
      ]
    },
    {
      "cell_type": "code",
      "metadata": {
        "id": "7W-3f2W9sLtD",
        "colab_type": "code",
        "colab": {}
      },
      "source": [
        ""
      ],
      "execution_count": 0,
      "outputs": []
    },
    {
      "cell_type": "code",
      "metadata": {
        "id": "JpuSZ-iLsLtI",
        "colab_type": "code",
        "colab": {}
      },
      "source": [
        "#Apply data transformations\n",
        "ptf.apply_random_horizontal_flip(train=True, val=True);\n",
        "ptf.apply_normalize(mean=[0.485, 0.456, 0.406], std=[0.229, 0.224, 0.225], train=True, val=True, test=True);"
      ],
      "execution_count": 0,
      "outputs": []
    },
    {
      "cell_type": "code",
      "metadata": {
        "id": "SsAROrjlsLtK",
        "colab_type": "code",
        "colab": {}
      },
      "source": [
        ""
      ],
      "execution_count": 0,
      "outputs": []
    },
    {
      "cell_type": "code",
      "metadata": {
        "id": "FEFcRRZBsLtM",
        "colab_type": "code",
        "outputId": "4aff8514-aa15-4dfa-a5f6-5c7ecc6e8cf7",
        "colab": {
          "base_uri": "https://localhost:8080/",
          "height": 202
        }
      },
      "source": [
        "#Load dataset\n",
        "ptf.Dataset();"
      ],
      "execution_count": 0,
      "outputs": [
        {
          "output_type": "stream",
          "text": [
            "Pre-Composed Train Transforms\n",
            "[{'RandomHorizontalFlip': {'p': 0.5}}, {'Normalize': {'mean': [0.485, 0.456, 0.406], 'std': [0.229, 0.224, 0.225]}}]\n",
            "\n",
            "Pre-Composed Val Transforms\n",
            "[{'RandomHorizontalFlip': {'p': 0.5}}, {'Normalize': {'mean': [0.485, 0.456, 0.406], 'std': [0.229, 0.224, 0.225]}}]\n",
            "\n",
            "Dataset Numbers\n",
            "    Num train images: 36431\n",
            "    Num val images:   4048\n",
            "    Num classes:      17\n",
            "\n"
          ],
          "name": "stdout"
        }
      ]
    },
    {
      "cell_type": "code",
      "metadata": {
        "id": "KlS7QYXasLtQ",
        "colab_type": "code",
        "colab": {}
      },
      "source": [
        ""
      ],
      "execution_count": 0,
      "outputs": []
    },
    {
      "cell_type": "code",
      "metadata": {
        "id": "afY2zME7sLtS",
        "colab_type": "code",
        "outputId": "a514acf7-6a20-4417-af3e-8c307a9cd0be",
        "colab": {
          "base_uri": "https://localhost:8080/",
          "height": 302
        }
      },
      "source": [
        "# List classes\n",
        "ptf.system_dict[\"dataset\"][\"params\"][\"classes\"]"
      ],
      "execution_count": 0,
      "outputs": [
        {
          "output_type": "execute_result",
          "data": {
            "text/plain": [
              "['agriculture',\n",
              " 'artisinal_mine',\n",
              " 'bare_ground',\n",
              " 'blooming',\n",
              " 'blow_down',\n",
              " 'clear',\n",
              " 'cloudy',\n",
              " 'conventional_mine',\n",
              " 'cultivation',\n",
              " 'habitation',\n",
              " 'haze',\n",
              " 'partly_cloudy',\n",
              " 'primary',\n",
              " 'road',\n",
              " 'selective_logging',\n",
              " 'slash_burn',\n",
              " 'water']"
            ]
          },
          "metadata": {
            "tags": []
          },
          "execution_count": 11
        }
      ]
    },
    {
      "cell_type": "code",
      "metadata": {
        "id": "YfCGiE4esLtV",
        "colab_type": "code",
        "colab": {}
      },
      "source": [
        ""
      ],
      "execution_count": 0,
      "outputs": []
    },
    {
      "cell_type": "code",
      "metadata": {
        "id": "Rdwb7qhqsLtX",
        "colab_type": "code",
        "colab": {}
      },
      "source": [
        ""
      ],
      "execution_count": 0,
      "outputs": []
    },
    {
      "cell_type": "code",
      "metadata": {
        "id": "yFcPKqIusLta",
        "colab_type": "code",
        "outputId": "19e4cd96-ba04-4fea-a375-2899c711cbd6",
        "colab": {
          "base_uri": "https://localhost:8080/",
          "height": 118
        }
      },
      "source": [
        "# Set model parameters\n",
        "ptf.Model_Params(model_name=\"resnet18_v1\", freeze_base_network=False, use_gpu=True, use_pretrained=True);"
      ],
      "execution_count": 0,
      "outputs": [
        {
          "output_type": "stream",
          "text": [
            "Model Params\n",
            "    Model name:           resnet18_v1\n",
            "    Use Gpu:              True\n",
            "    Use pretrained:       True\n",
            "    Freeze base network:  False\n",
            "\n"
          ],
          "name": "stdout"
        }
      ]
    },
    {
      "cell_type": "code",
      "metadata": {
        "id": "IOhlU8cesLtd",
        "colab_type": "code",
        "colab": {}
      },
      "source": [
        ""
      ],
      "execution_count": 0,
      "outputs": []
    },
    {
      "cell_type": "code",
      "metadata": {
        "id": "R4mCQhQPsLtj",
        "colab_type": "code",
        "outputId": "2197fc99-72c4-4d48-adff-7130ac76601a",
        "colab": {
          "base_uri": "https://localhost:8080/",
          "height": 188
        }
      },
      "source": [
        "# Load model\n",
        "ptf.Model();"
      ],
      "execution_count": 0,
      "outputs": [
        {
          "output_type": "stream",
          "text": [
            "Model Details\n",
            "    Loading pretrained model\n",
            "Downloading /root/.mxnet/models/resnet18_v1-a0666292.zip from https://apache-mxnet.s3-accelerate.dualstack.amazonaws.com/gluon/models/resnet18_v1-a0666292.zip...\n"
          ],
          "name": "stdout"
        },
        {
          "output_type": "stream",
          "text": [
            "42435KB [00:00, 54083.50KB/s]                           \n"
          ],
          "name": "stderr"
        },
        {
          "output_type": "stream",
          "text": [
            "    Model Loaded on device\n",
            "        Model name:                           resnet18_v1\n",
            "        Num of potentially trainable layers:  41\n",
            "        Num of actual trainable layers:       41\n",
            "\n"
          ],
          "name": "stdout"
        }
      ]
    },
    {
      "cell_type": "code",
      "metadata": {
        "id": "1rxPsvb3sLtl",
        "colab_type": "code",
        "colab": {}
      },
      "source": [
        "#ptf.Visualize_With_Netron(data_shape=(3, 224, 224))"
      ],
      "execution_count": 0,
      "outputs": []
    },
    {
      "cell_type": "code",
      "metadata": {
        "id": "rv-sbEijsLto",
        "colab_type": "code",
        "colab": {}
      },
      "source": [
        ""
      ],
      "execution_count": 0,
      "outputs": []
    },
    {
      "cell_type": "code",
      "metadata": {
        "id": "7UliSNe6sLtr",
        "colab_type": "code",
        "outputId": "e701c7e2-002d-47f0-eb86-b736cd4b4c60",
        "colab": {
          "base_uri": "https://localhost:8080/",
          "height": 168
        }
      },
      "source": [
        "# Set Training parameters\n",
        "ptf.Training_Params(num_epochs=10, display_progress=True, display_progress_realtime=True, \n",
        "                    save_intermediate_models=False, \n",
        "                    intermediate_model_prefix=\"intermediate_model_\", save_training_logs=True);"
      ],
      "execution_count": 0,
      "outputs": [
        {
          "output_type": "stream",
          "text": [
            "Training params\n",
            "    Num Epochs: 10\n",
            "\n",
            "Display params\n",
            "    Display progress:          True\n",
            "    Display progress realtime: True\n",
            "    Save Training logs:        True\n",
            "    Save Intermediate models:  False\n",
            "\n"
          ],
          "name": "stdout"
        }
      ]
    },
    {
      "cell_type": "code",
      "metadata": {
        "id": "BJcLqQYZsLtt",
        "colab_type": "code",
        "colab": {}
      },
      "source": [
        ""
      ],
      "execution_count": 0,
      "outputs": []
    },
    {
      "cell_type": "code",
      "metadata": {
        "id": "EbYXZgnVsLt0",
        "colab_type": "code",
        "outputId": "5128e6ac-5d83-4847-c7b4-b4d7f547cc05",
        "colab": {
          "base_uri": "https://localhost:8080/",
          "height": 171
        }
      },
      "source": [
        "#optimizer\n",
        "ptf.optimizer_rmsprop(0.001);"
      ],
      "execution_count": 0,
      "outputs": [
        {
          "output_type": "stream",
          "text": [
            "Optimizer\n",
            "    Name:          rmsprop\n",
            "    Learning rate: 0.001\n",
            "    Params:        {'lr': 0.001, 'epsilon': 1e-08, 'decay_rate': 0.99, 'weight_decay': 0, 'clipnorm': 0.0, 'clipvalue': 0.0}\n",
            "\n",
            "\n"
          ],
          "name": "stdout"
        },
        {
          "output_type": "stream",
          "text": [
            "monk_v1/monk/system/imports.py:160: UserWarning: ArgumentWarning: clipnorm and clipvalue are active only for keras in current version of Monk\n",
            "  warnings.warn(msg)\n"
          ],
          "name": "stderr"
        }
      ]
    },
    {
      "cell_type": "code",
      "metadata": {
        "id": "UEm69TLjsLt2",
        "colab_type": "code",
        "colab": {}
      },
      "source": [
        ""
      ],
      "execution_count": 0,
      "outputs": []
    },
    {
      "cell_type": "code",
      "metadata": {
        "id": "XukRu3I-sLt4",
        "colab_type": "code",
        "outputId": "e6ca4c51-4ce0-4d9e-bf85-d940e817e0d7",
        "colab": {
          "base_uri": "https://localhost:8080/",
          "height": 84
        }
      },
      "source": [
        "#learning rate scheduler\n",
        "ptf.lr_fixed();"
      ],
      "execution_count": 0,
      "outputs": [
        {
          "output_type": "stream",
          "text": [
            "Learning rate scheduler\n",
            "    Name:   fixed\n",
            "    Params: {}\n",
            "\n"
          ],
          "name": "stdout"
        }
      ]
    },
    {
      "cell_type": "code",
      "metadata": {
        "id": "K2Szd4Q_sLt7",
        "colab_type": "code",
        "colab": {}
      },
      "source": [
        ""
      ],
      "execution_count": 0,
      "outputs": []
    },
    {
      "cell_type": "code",
      "metadata": {
        "id": "hSrTp1fDsLuB",
        "colab_type": "code",
        "outputId": "4f5b370b-7127-4b26-dffd-56b5dd329263",
        "colab": {
          "base_uri": "https://localhost:8080/",
          "height": 84
        }
      },
      "source": [
        "#Loss function\n",
        "ptf.loss_sigmoid_binary_crossentropy()"
      ],
      "execution_count": 0,
      "outputs": [
        {
          "output_type": "stream",
          "text": [
            "Loss\n",
            "    Name:          sigmoidbinarycrossentropy\n",
            "    Params:        {'weight': None, 'batch_axis': 0}\n",
            "\n"
          ],
          "name": "stdout"
        }
      ]
    },
    {
      "cell_type": "code",
      "metadata": {
        "id": "7WLYspcosLuD",
        "colab_type": "code",
        "colab": {}
      },
      "source": [
        ""
      ],
      "execution_count": 0,
      "outputs": []
    },
    {
      "cell_type": "code",
      "metadata": {
        "id": "2tuurzLxsLuH",
        "colab_type": "code",
        "outputId": "39b7c388-d448-4324-d16f-3c553712b9d9",
        "colab": {
          "base_uri": "https://localhost:8080/",
          "height": 84
        }
      },
      "source": [
        "#Start Training\n",
        "ptf.Train();"
      ],
      "execution_count": 0,
      "outputs": [
        {
          "output_type": "stream",
          "text": [
            "\r  0%|          | 0/2277 [00:00<?, ?it/s]"
          ],
          "name": "stderr"
        },
        {
          "output_type": "stream",
          "text": [
            "Training Start\n",
            "    Epoch 1/10\n",
            "    ----------\n"
          ],
          "name": "stdout"
        },
        {
          "output_type": "stream",
          "text": [
            " 56%|█████▋    | 1286/2277 [02:21<01:47,  9.25it/s]"
          ],
          "name": "stderr"
        }
      ]
    },
    {
      "cell_type": "code",
      "metadata": {
        "id": "lBJygs-ZsLuK",
        "colab_type": "code",
        "colab": {}
      },
      "source": [
        ""
      ],
      "execution_count": 0,
      "outputs": []
    },
    {
      "cell_type": "code",
      "metadata": {
        "id": "O_SFlQQrsLuM",
        "colab_type": "code",
        "colab": {}
      },
      "source": [
        ""
      ],
      "execution_count": 0,
      "outputs": []
    },
    {
      "cell_type": "code",
      "metadata": {
        "id": "-X_62jOGsLuO",
        "colab_type": "code",
        "colab": {}
      },
      "source": [
        ""
      ],
      "execution_count": 0,
      "outputs": []
    },
    {
      "cell_type": "code",
      "metadata": {
        "id": "_aQDsQH_sLuQ",
        "colab_type": "code",
        "colab": {}
      },
      "source": [
        ""
      ],
      "execution_count": 0,
      "outputs": []
    },
    {
      "cell_type": "code",
      "metadata": {
        "id": "qLl6aKqPsLuT",
        "colab_type": "code",
        "colab": {}
      },
      "source": [
        ""
      ],
      "execution_count": 0,
      "outputs": []
    },
    {
      "cell_type": "code",
      "metadata": {
        "id": "p8fLAKmDsLuW",
        "colab_type": "code",
        "colab": {}
      },
      "source": [
        ""
      ],
      "execution_count": 0,
      "outputs": []
    },
    {
      "cell_type": "markdown",
      "metadata": {
        "id": "w30pqy_fsLua",
        "colab_type": "text"
      },
      "source": [
        "<a id='3'></a>\n",
        "# Inferencing on images"
      ]
    },
    {
      "cell_type": "code",
      "metadata": {
        "id": "nM2Z66PYsLua",
        "colab_type": "code",
        "colab": {}
      },
      "source": [
        ""
      ],
      "execution_count": 0,
      "outputs": []
    },
    {
      "cell_type": "code",
      "metadata": {
        "id": "pd9lMFD0sLum",
        "colab_type": "code",
        "colab": {}
      },
      "source": [
        "#Imports \n",
        "\n",
        "import os\n",
        "import sys\n",
        "sys.path.append(\"monk_v1/monk/\");\n",
        "\n",
        "from gluon_prototype import prototype"
      ],
      "execution_count": 0,
      "outputs": []
    },
    {
      "cell_type": "code",
      "metadata": {
        "id": "WyAgQScSsLuo",
        "colab_type": "code",
        "colab": {}
      },
      "source": [
        ""
      ],
      "execution_count": 0,
      "outputs": []
    },
    {
      "cell_type": "code",
      "metadata": {
        "id": "9Stns4QYsLut",
        "colab_type": "code",
        "colab": {}
      },
      "source": [
        "# Load experiment in evaluation and inferencing mode\n",
        "\n",
        "ptf = prototype(verbose=1);\n",
        "ptf.Prototype(\"sample-project-1\", \"sample-experiment-1\", eval_infer=True);"
      ],
      "execution_count": 0,
      "outputs": []
    },
    {
      "cell_type": "code",
      "metadata": {
        "id": "j8r5njcOsLuv",
        "colab_type": "code",
        "colab": {}
      },
      "source": [
        ""
      ],
      "execution_count": 0,
      "outputs": []
    },
    {
      "cell_type": "code",
      "metadata": {
        "id": "kWFEiuOMsLux",
        "colab_type": "code",
        "colab": {}
      },
      "source": [
        ""
      ],
      "execution_count": 0,
      "outputs": []
    },
    {
      "cell_type": "code",
      "metadata": {
        "id": "4GlkDK4isLu3",
        "colab_type": "code",
        "colab": {}
      },
      "source": [
        "img_name = \"satellite_cls/train-jpg/train_30.jpg\";\n",
        "predictions = ptf.Infer(img_name=img_name, return_raw=True, img_thresh=0.6);\n",
        "from IPython.display import Image\n",
        "Image(filename=img_name)"
      ],
      "execution_count": 0,
      "outputs": []
    },
    {
      "cell_type": "code",
      "metadata": {
        "id": "wD11mS4asLu7",
        "colab_type": "code",
        "colab": {}
      },
      "source": [
        ""
      ],
      "execution_count": 0,
      "outputs": []
    },
    {
      "cell_type": "code",
      "metadata": {
        "id": "x2zfWBcfsLvA",
        "colab_type": "code",
        "colab": {}
      },
      "source": [
        ""
      ],
      "execution_count": 0,
      "outputs": []
    },
    {
      "cell_type": "code",
      "metadata": {
        "id": "QRLmQAOYsLvE",
        "colab_type": "code",
        "colab": {}
      },
      "source": [
        "img_name = \"satellite_cls/train-jpg/train_130.jpg\";\n",
        "predictions = ptf.Infer(img_name=img_name, return_raw=True, img_thresh=0.6);\n",
        "from IPython.display import Image\n",
        "Image(filename=img_name)"
      ],
      "execution_count": 0,
      "outputs": []
    },
    {
      "cell_type": "code",
      "metadata": {
        "id": "y7mi2gTOsLvG",
        "colab_type": "code",
        "colab": {}
      },
      "source": [
        ""
      ],
      "execution_count": 0,
      "outputs": []
    },
    {
      "cell_type": "code",
      "metadata": {
        "id": "21e-SNYVsLvH",
        "colab_type": "code",
        "colab": {}
      },
      "source": [
        ""
      ],
      "execution_count": 0,
      "outputs": []
    },
    {
      "cell_type": "code",
      "metadata": {
        "id": "YlzI4o1wsLvJ",
        "colab_type": "code",
        "colab": {}
      },
      "source": [
        "img_name = \"satellite_cls/train-jpg/train_31980.jpg\";\n",
        "predictions = ptf.Infer(img_name=img_name, return_raw=True, img_thresh=0.6);\n",
        "from IPython.display import Image\n",
        "Image(filename=img_name)"
      ],
      "execution_count": 0,
      "outputs": []
    },
    {
      "cell_type": "code",
      "metadata": {
        "id": "B694iESDsLvK",
        "colab_type": "code",
        "colab": {}
      },
      "source": [
        ""
      ],
      "execution_count": 0,
      "outputs": []
    },
    {
      "cell_type": "code",
      "metadata": {
        "id": "avPioQPfsLvM",
        "colab_type": "code",
        "colab": {}
      },
      "source": [
        ""
      ],
      "execution_count": 0,
      "outputs": []
    },
    {
      "cell_type": "code",
      "metadata": {
        "id": "VkeW10L_sLvO",
        "colab_type": "code",
        "colab": {}
      },
      "source": [
        "img_name = \"satellite_cls/train-jpg/train_1280.jpg\";\n",
        "predictions = ptf.Infer(img_name=img_name, return_raw=True, img_thresh=0.6);\n",
        "from IPython.display import Image\n",
        "Image(filename=img_name)"
      ],
      "execution_count": 0,
      "outputs": []
    },
    {
      "cell_type": "code",
      "metadata": {
        "id": "fl4zDCNvsLvQ",
        "colab_type": "code",
        "colab": {}
      },
      "source": [
        ""
      ],
      "execution_count": 0,
      "outputs": []
    },
    {
      "cell_type": "code",
      "metadata": {
        "id": "qfYlYK2IsLvT",
        "colab_type": "code",
        "colab": {}
      },
      "source": [
        ""
      ],
      "execution_count": 0,
      "outputs": []
    },
    {
      "cell_type": "code",
      "metadata": {
        "id": "3dXtbZn5sLvW",
        "colab_type": "code",
        "colab": {}
      },
      "source": [
        "img_name = \"satellite_cls/train-jpg/train_14550.jpg\";\n",
        "predictions = ptf.Infer(img_name=img_name, return_raw=True, img_thresh=0.6);\n",
        "from IPython.display import Image\n",
        "Image(filename=img_name)"
      ],
      "execution_count": 0,
      "outputs": []
    },
    {
      "cell_type": "code",
      "metadata": {
        "id": "F7r-5HNFsLvY",
        "colab_type": "code",
        "colab": {}
      },
      "source": [
        ""
      ],
      "execution_count": 0,
      "outputs": []
    },
    {
      "cell_type": "code",
      "metadata": {
        "id": "Bz0BAklhsLvc",
        "colab_type": "code",
        "colab": {}
      },
      "source": [
        ""
      ],
      "execution_count": 0,
      "outputs": []
    },
    {
      "cell_type": "code",
      "metadata": {
        "id": "ZlZijMocsLvf",
        "colab_type": "code",
        "colab": {}
      },
      "source": [
        ""
      ],
      "execution_count": 0,
      "outputs": []
    },
    {
      "cell_type": "code",
      "metadata": {
        "id": "OK_loB1wsLvh",
        "colab_type": "code",
        "colab": {}
      },
      "source": [
        "## Inference on images in folder\n",
        "\n",
        "img_dir = \"satellite_cls/test_small\";\n",
        "predictions = ptf.Infer(img_dir=img_dir, return_raw=True, img_thresh=0.6);"
      ],
      "execution_count": 0,
      "outputs": []
    },
    {
      "cell_type": "code",
      "metadata": {
        "id": "nlhQTi7AsLvj",
        "colab_type": "code",
        "colab": {}
      },
      "source": [
        ""
      ],
      "execution_count": 0,
      "outputs": []
    },
    {
      "cell_type": "code",
      "metadata": {
        "id": "QpNU_2LQsLvl",
        "colab_type": "code",
        "colab": {}
      },
      "source": [
        ""
      ],
      "execution_count": 0,
      "outputs": []
    },
    {
      "cell_type": "code",
      "metadata": {
        "id": "_9MOttw4sLvn",
        "colab_type": "code",
        "colab": {}
      },
      "source": [
        ""
      ],
      "execution_count": 0,
      "outputs": []
    },
    {
      "cell_type": "code",
      "metadata": {
        "id": "Pv1kQMsmsLvp",
        "colab_type": "code",
        "colab": {}
      },
      "source": [
        ""
      ],
      "execution_count": 0,
      "outputs": []
    },
    {
      "cell_type": "code",
      "metadata": {
        "id": "5HJxNAUisLvq",
        "colab_type": "code",
        "colab": {}
      },
      "source": [
        ""
      ],
      "execution_count": 0,
      "outputs": []
    },
    {
      "cell_type": "markdown",
      "metadata": {
        "id": "UvqiOCxnsLvr",
        "colab_type": "text"
      },
      "source": [
        "<a id='4'></a>\n",
        "# Validation on same training set"
      ]
    },
    {
      "cell_type": "code",
      "metadata": {
        "id": "SzRNg6fnsLvs",
        "colab_type": "code",
        "colab": {}
      },
      "source": [
        "#Imports \n",
        "import os\n",
        "import sys\n",
        "sys.path.append(\"monk_v1/monk/\");\n",
        "\n",
        "from gluon_prototype import prototype"
      ],
      "execution_count": 0,
      "outputs": []
    },
    {
      "cell_type": "code",
      "metadata": {
        "id": "eUWWz-XlsLvt",
        "colab_type": "code",
        "colab": {}
      },
      "source": [
        "# Load experiment in inference mode\n",
        "ptf = prototype(verbose=1);\n",
        "ptf.Prototype(\"sample-project-1\", \"sample-experiment-1\", eval_infer=True);"
      ],
      "execution_count": 0,
      "outputs": []
    },
    {
      "cell_type": "code",
      "metadata": {
        "id": "bFs2K9OosLv0",
        "colab_type": "code",
        "colab": {}
      },
      "source": [
        ""
      ],
      "execution_count": 0,
      "outputs": []
    },
    {
      "cell_type": "code",
      "metadata": {
        "id": "ghoCouoEsLv2",
        "colab_type": "code",
        "colab": {}
      },
      "source": [
        "ptf.Dataset_Params(dataset_path=\"satellite_cls/train-jpg/\",\n",
        "                  path_to_csv=\"satellite_cls/train.csv\",\n",
        "                  delimiter=\" \");\n",
        "\n",
        "ptf.Dataset();"
      ],
      "execution_count": 0,
      "outputs": []
    },
    {
      "cell_type": "code",
      "metadata": {
        "id": "yWBZt4GXsLv5",
        "colab_type": "code",
        "colab": {}
      },
      "source": [
        ""
      ],
      "execution_count": 0,
      "outputs": []
    },
    {
      "cell_type": "code",
      "metadata": {
        "id": "KxUkFMV4sLv7",
        "colab_type": "code",
        "colab": {}
      },
      "source": [
        "# Run validation\n",
        "accuracy, class_based_accuracy = ptf.Evaluate();"
      ],
      "execution_count": 0,
      "outputs": []
    },
    {
      "cell_type": "code",
      "metadata": {
        "id": "CcFLUA4GsLv9",
        "colab_type": "code",
        "colab": {}
      },
      "source": [
        ""
      ],
      "execution_count": 0,
      "outputs": []
    },
    {
      "cell_type": "code",
      "metadata": {
        "id": "tmrD9H-bsLv_",
        "colab_type": "code",
        "colab": {}
      },
      "source": [
        ""
      ],
      "execution_count": 0,
      "outputs": []
    },
    {
      "cell_type": "code",
      "metadata": {
        "id": "hUGCQ2SAsLwC",
        "colab_type": "code",
        "colab": {}
      },
      "source": [
        ""
      ],
      "execution_count": 0,
      "outputs": []
    },
    {
      "cell_type": "code",
      "metadata": {
        "id": "BCKN2Kt4sLwE",
        "colab_type": "code",
        "colab": {}
      },
      "source": [
        ""
      ],
      "execution_count": 0,
      "outputs": []
    },
    {
      "cell_type": "code",
      "metadata": {
        "id": "6SuH9g4EsLwH",
        "colab_type": "code",
        "colab": {}
      },
      "source": [
        ""
      ],
      "execution_count": 0,
      "outputs": []
    },
    {
      "cell_type": "markdown",
      "metadata": {
        "id": "JZLFySOysLwJ",
        "colab_type": "text"
      },
      "source": [
        "<a id='5'></a>\n",
        "# Run Inference on Test dataset for submission in competition"
      ]
    },
    {
      "cell_type": "code",
      "metadata": {
        "id": "j2Zrf5JAsLwL",
        "colab_type": "code",
        "colab": {}
      },
      "source": [
        "#Imports\n",
        "\n",
        "import os\n",
        "import sys\n",
        "sys.path.append(\"monk_v1/monk/\");\n",
        "\n",
        "from gluon_prototype import prototype"
      ],
      "execution_count": 0,
      "outputs": []
    },
    {
      "cell_type": "code",
      "metadata": {
        "id": "kAyVSwbrsLwN",
        "colab_type": "code",
        "colab": {}
      },
      "source": [
        "# Load experiment in inference mode\n",
        "\n",
        "ptf = prototype(verbose=0);\n",
        "ptf.Prototype(\"sample-project-1\", \"sample-experiment-1\", eval_infer=True);"
      ],
      "execution_count": 0,
      "outputs": []
    },
    {
      "cell_type": "code",
      "metadata": {
        "id": "W6GV86ulsLwO",
        "colab_type": "code",
        "colab": {}
      },
      "source": [
        ""
      ],
      "execution_count": 0,
      "outputs": []
    },
    {
      "cell_type": "code",
      "metadata": {
        "id": "FTqinL-VsLwQ",
        "colab_type": "code",
        "colab": {}
      },
      "source": [
        "test_imgs = os.listdir(\"satellite_cls/test-jpg\");"
      ],
      "execution_count": 0,
      "outputs": []
    },
    {
      "cell_type": "code",
      "metadata": {
        "id": "eSjZdPy8sLwR",
        "colab_type": "code",
        "colab": {}
      },
      "source": [
        "test_imgs[0]"
      ],
      "execution_count": 0,
      "outputs": []
    },
    {
      "cell_type": "code",
      "metadata": {
        "id": "kg_IPvPxsLwT",
        "colab_type": "code",
        "colab": {}
      },
      "source": [
        "combined = [];\n",
        "from tqdm import tqdm_notebook as tqdm\n",
        "for i in tqdm(range(len(test_imgs))):\n",
        "    img_name = \"satellite_cls/test-jpg/\" + test_imgs[i];\n",
        "    predictions = ptf.Infer(img_name=img_name, return_raw=False, img_thresh=0.5);\n",
        "    \n",
        "    wr = \"\";\n",
        "    for j in range(len(predictions[\"predicted_classes\"])):\n",
        "        wr += predictions[\"predicted_classes\"][j] + \" \";\n",
        "    \n",
        "    wr = wr[:len(wr) - 1]\n",
        "    combined.append([test_imgs[i].split(\".\")[0], wr])"
      ],
      "execution_count": 0,
      "outputs": []
    },
    {
      "cell_type": "code",
      "metadata": {
        "id": "yGLxiIyisLwa",
        "colab_type": "code",
        "colab": {}
      },
      "source": [
        ""
      ],
      "execution_count": 0,
      "outputs": []
    },
    {
      "cell_type": "code",
      "metadata": {
        "id": "iyn073NOsLwb",
        "colab_type": "code",
        "colab": {}
      },
      "source": [
        "test_imgs = os.listdir(\"satellite_cls/test-jpg-additional\");\n",
        "for i in tqdm(range(len(test_imgs))):\n",
        "    img_name = \"satellite_cls/test-jpg-additional/\" + test_imgs[i];\n",
        "    predictions = ptf.Infer(img_name=img_name, return_raw=False, img_thresh=0.5);\n",
        "    \n",
        "    wr = \"\";\n",
        "    for j in range(len(predictions[\"predicted_classes\"])):\n",
        "        wr += predictions[\"predicted_classes\"][j] + \" \";\n",
        "    \n",
        "    wr = wr[:len(wr) - 1]\n",
        "    combined.append([test_imgs[i].split(\".\")[0], wr])"
      ],
      "execution_count": 0,
      "outputs": []
    },
    {
      "cell_type": "code",
      "metadata": {
        "id": "wsnMqWs2sLwd",
        "colab_type": "code",
        "colab": {}
      },
      "source": [
        ""
      ],
      "execution_count": 0,
      "outputs": []
    },
    {
      "cell_type": "code",
      "metadata": {
        "id": "AD7Kf8QBsLwe",
        "colab_type": "code",
        "colab": {}
      },
      "source": [
        "combined[:5], len(combined)"
      ],
      "execution_count": 0,
      "outputs": []
    },
    {
      "cell_type": "code",
      "metadata": {
        "id": "lFH3iYmTsLwg",
        "colab_type": "code",
        "colab": {}
      },
      "source": [
        "import pandas as pd\n",
        "df = pd.DataFrame(combined, columns = ['image_name', 'tags'])"
      ],
      "execution_count": 0,
      "outputs": []
    },
    {
      "cell_type": "code",
      "metadata": {
        "id": "7XfdOw3usLwh",
        "colab_type": "code",
        "colab": {}
      },
      "source": [
        "df.to_csv(\"submission.csv\", index=False);"
      ],
      "execution_count": 0,
      "outputs": []
    },
    {
      "cell_type": "code",
      "metadata": {
        "id": "EdJE66rmsLwi",
        "colab_type": "code",
        "colab": {}
      },
      "source": [
        ""
      ],
      "execution_count": 0,
      "outputs": []
    },
    {
      "cell_type": "code",
      "metadata": {
        "id": "CMLZATERsLwk",
        "colab_type": "code",
        "colab": {}
      },
      "source": [
        ""
      ],
      "execution_count": 0,
      "outputs": []
    },
    {
      "cell_type": "code",
      "metadata": {
        "id": "jQcTAnAEsLwn",
        "colab_type": "code",
        "colab": {}
      },
      "source": [
        ""
      ],
      "execution_count": 0,
      "outputs": []
    },
    {
      "cell_type": "markdown",
      "metadata": {
        "id": "iozyMrflsLwp",
        "colab_type": "text"
      },
      "source": [
        "## Submit the file here - https://www.kaggle.com/c/planet-understanding-the-amazon-from-space/submit\n",
        "\n",
        "## Achived score - 0.89032/1"
      ]
    },
    {
      "cell_type": "code",
      "metadata": {
        "id": "s8XWc-ctsLwp",
        "colab_type": "code",
        "colab": {}
      },
      "source": [
        ""
      ],
      "execution_count": 0,
      "outputs": []
    },
    {
      "cell_type": "code",
      "metadata": {
        "id": "MtMzHOTFsLwq",
        "colab_type": "code",
        "colab": {}
      },
      "source": [
        ""
      ],
      "execution_count": 0,
      "outputs": []
    },
    {
      "cell_type": "code",
      "metadata": {
        "id": "PwcslkQUsLws",
        "colab_type": "code",
        "colab": {}
      },
      "source": [
        ""
      ],
      "execution_count": 0,
      "outputs": []
    },
    {
      "cell_type": "code",
      "metadata": {
        "id": "rz9W_vUksLwv",
        "colab_type": "code",
        "colab": {}
      },
      "source": [
        ""
      ],
      "execution_count": 0,
      "outputs": []
    },
    {
      "cell_type": "code",
      "metadata": {
        "id": "qbBTfzQmsLww",
        "colab_type": "code",
        "colab": {}
      },
      "source": [
        ""
      ],
      "execution_count": 0,
      "outputs": []
    },
    {
      "cell_type": "code",
      "metadata": {
        "id": "WuU00SGGsLwz",
        "colab_type": "code",
        "colab": {}
      },
      "source": [
        ""
      ],
      "execution_count": 0,
      "outputs": []
    }
  ]
}