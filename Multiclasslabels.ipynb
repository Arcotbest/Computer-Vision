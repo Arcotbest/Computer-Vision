{
  "nbformat": 4,
  "nbformat_minor": 0,
  "metadata": {
    "colab": {
      "name": "Multiclasslabels.ipynb",
      "provenance": [],
      "private_outputs": true
    },
    "kernelspec": {
      "name": "python3",
      "display_name": "Python 3"
    },
    "accelerator": "GPU"
  },
  "cells": [
    {
      "cell_type": "code",
      "metadata": {
        "id": "ceUCXA3v9nBw",
        "colab_type": "code",
        "colab": {}
      },
      "source": [
        "from tensorflow.keras.models import Sequential\n",
        "\"\"\"Import from keras_preprocessing not from keras.preprocessing, because Keras may or maynot contain the features discussed here depending upon when you read this article, until the keras_preprocessed library is updated in Keras use the github version.\"\"\"\n",
        "from tensorflow.keras.preprocessing.image import ImageDataGenerator\n",
        "from tensorflow.keras.layers import Dense, Activation, Flatten, Dropout, BatchNormalization\n",
        "from tensorflow.keras.layers import Conv2D, MaxPooling2D\n",
        "from tensorflow.keras import regularizers, optimizers\n",
        "import pandas as pd\n",
        "import numpy as np"
      ],
      "execution_count": 0,
      "outputs": []
    },
    {
      "cell_type": "code",
      "metadata": {
        "id": "ZqBf6zw3_ZxH",
        "colab_type": "code",
        "colab": {}
      },
      "source": [
        "cd drive/My\\ Drive"
      ],
      "execution_count": 0,
      "outputs": []
    },
    {
      "cell_type": "code",
      "metadata": {
        "id": "QpuW75O1_igE",
        "colab_type": "code",
        "colab": {}
      },
      "source": [
        "cd miml_dataset/"
      ],
      "execution_count": 0,
      "outputs": []
    },
    {
      "cell_type": "code",
      "metadata": {
        "id": "YYX6RjPO_tQL",
        "colab_type": "code",
        "colab": {}
      },
      "source": [
        "import pandas as pd"
      ],
      "execution_count": 0,
      "outputs": []
    },
    {
      "cell_type": "code",
      "metadata": {
        "id": "mjNHpThu_HKa",
        "colab_type": "code",
        "colab": {}
      },
      "source": [
        "df=pd.read_csv('miml_labels_1.csv')\n",
        "columns=[\"desert\", \"mountains\", \"sea\", \"sunset\", \"trees\"]"
      ],
      "execution_count": 0,
      "outputs": []
    },
    {
      "cell_type": "code",
      "metadata": {
        "id": "G3foRM2p_xtS",
        "colab_type": "code",
        "colab": {}
      },
      "source": [
        "datagen=ImageDataGenerator(rescale=1./255.)\n",
        "test_datagen=ImageDataGenerator(rescale=1./255.)"
      ],
      "execution_count": 0,
      "outputs": []
    },
    {
      "cell_type": "code",
      "metadata": {
        "id": "igcz0F8XAeXk",
        "colab_type": "code",
        "colab": {}
      },
      "source": [
        "train_generator=datagen.flow_from_dataframe(\n",
        "dataframe=df[:1800],\n",
        "directory=\"./images\",\n",
        "x_col=\"Filenames\",\n",
        "y_col=columns,\n",
        "batch_size=32,\n",
        "seed=42,\n",
        "shuffle=True,\n",
        "class_mode=\"raw\",\n",
        "target_size=(100,100))\n",
        "valid_generator=test_datagen.flow_from_dataframe(\n",
        "                                      dataframe=df[1800:1900],\n",
        "                                      directory=\"images\",\n",
        "                                      x_col=\"Filenames\",\n",
        "                                      y_col=columns,\n",
        "                                      batch_size=32,\n",
        "                                      seed=42,\n",
        "                                      shuffle=True,\n",
        "                                      class_mode=\"raw\",\n",
        "                                      target_size=(100,100))\n",
        "test_generator=test_datagen.flow_from_dataframe(\n",
        "                                      dataframe=df[1900:],\n",
        "                                      directory=\"images\",\n",
        "                                      x_col=\"Filenames\",\n",
        "                                      batch_size=1,\n",
        "                                      seed=42,\n",
        "                                      shuffle=False,\n",
        "                                      class_mode=None,\n",
        "                                      target_size=(100,100))"
      ],
      "execution_count": 0,
      "outputs": []
    },
    {
      "cell_type": "code",
      "metadata": {
        "id": "CwOWTZohB3yK",
        "colab_type": "code",
        "colab": {}
      },
      "source": [
        "from tensorflow.keras import optimizers"
      ],
      "execution_count": 0,
      "outputs": []
    },
    {
      "cell_type": "code",
      "metadata": {
        "id": "WG4Pr1NGBNJg",
        "colab_type": "code",
        "colab": {}
      },
      "source": [
        "model = Sequential()\n",
        "model.add(Conv2D(32, (3, 3), padding='same',\n",
        "                 input_shape=(100,100,3)))\n",
        "model.add(Activation('relu'))\n",
        "model.add(Conv2D(32, (3, 3)))\n",
        "model.add(Activation('relu'))\n",
        "model.add(MaxPooling2D(pool_size=(2, 2)))\n",
        "model.add(Dropout(0.25))\n",
        "model.add(Conv2D(64, (3, 3), padding='same'))\n",
        "model.add(Activation('relu'))\n",
        "model.add(Conv2D(64, (3, 3)))\n",
        "model.add(Activation('relu'))\n",
        "model.add(MaxPooling2D(pool_size=(2, 2)))\n",
        "model.add(Dropout(0.25))\n",
        "model.add(Flatten())\n",
        "model.add(Dense(512))\n",
        "model.add(Activation('relu'))\n",
        "model.add(Dropout(0.5))\n",
        "model.add(Dense(5, activation='sigmoid'))\n",
        "model.compile(optimizers.RMSprop(lr=0.0001, decay=1e-6),loss=\"binary_crossentropy\",metrics=[\"accuracy\"])"
      ],
      "execution_count": 0,
      "outputs": []
    },
    {
      "cell_type": "code",
      "metadata": {
        "id": "nZ2v5uBJB_ea",
        "colab_type": "code",
        "colab": {}
      },
      "source": [
        "STEP_SIZE_TRAIN=train_generator.n//train_generator.batch_size\n",
        "STEP_SIZE_VALID=valid_generator.n//valid_generator.batch_size\n",
        "STEP_SIZE_TEST=test_generator.n//test_generator.batch_size\n",
        "model.fit_generator(generator=train_generator,\n",
        "                    steps_per_epoch=STEP_SIZE_TRAIN,\n",
        "                    validation_data=valid_generator,\n",
        "                    validation_steps=STEP_SIZE_VALID,\n",
        "                    epochs=10\n",
        ")"
      ],
      "execution_count": 0,
      "outputs": []
    },
    {
      "cell_type": "code",
      "metadata": {
        "id": "2xzata8HCX8-",
        "colab_type": "code",
        "colab": {}
      },
      "source": [
        "test_generator.reset()\n",
        "pred=model.predict_generator(test_generator,\n",
        "steps=STEP_SIZE_TEST,\n",
        "verbose=1)"
      ],
      "execution_count": 0,
      "outputs": []
    },
    {
      "cell_type": "code",
      "metadata": {
        "id": "FR_ds1AvCZeX",
        "colab_type": "code",
        "colab": {}
      },
      "source": [
        "pred_bool = (pred >0.5)"
      ],
      "execution_count": 0,
      "outputs": []
    },
    {
      "cell_type": "code",
      "metadata": {
        "id": "KstRrK5nCfDr",
        "colab_type": "code",
        "colab": {}
      },
      "source": [
        "predictions = pred_bool.astype(int)\n",
        "columns=[\"desert\", \"mountains\", \"sea\", \"sunset\", \"trees\"]\n",
        "#columns should be the same order of y_col\n",
        "results=pd.DataFrame(predictions, columns=columns)\n",
        "results[\"Filenames\"]=test_generator.filenames\n",
        "ordered_cols=[\"Filenames\"]+columns\n",
        "results=results[ordered_cols]#To get the same column order\n",
        "results.to_csv(\"results.csv\",index=False)"
      ],
      "execution_count": 0,
      "outputs": []
    },
    {
      "cell_type": "code",
      "metadata": {
        "id": "SWEq79o5HWi0",
        "colab_type": "code",
        "colab": {}
      },
      "source": [
        ""
      ],
      "execution_count": 0,
      "outputs": []
    },
    {
      "cell_type": "code",
      "metadata": {
        "id": "LOLknfdUDx-T",
        "colab_type": "code",
        "colab": {}
      },
      "source": [
        "predictions=[]\n"
      ],
      "execution_count": 0,
      "outputs": []
    }
  ]
}