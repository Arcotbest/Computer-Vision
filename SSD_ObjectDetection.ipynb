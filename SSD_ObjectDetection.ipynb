{
  "nbformat": 4,
  "nbformat_minor": 0,
  "metadata": {
    "colab": {
      "name": "SSD-ObjectDetection.ipynb",
      "provenance": [],
      "private_outputs": true
    },
    "kernelspec": {
      "name": "python3",
      "display_name": "Python 3"
    },
    "accelerator": "GPU"
  },
  "cells": [
    {
      "cell_type": "code",
      "metadata": {
        "id": "NOYBi5HsVyg_",
        "colab_type": "code",
        "colab": {}
      },
      "source": [
        "!pip install gluoncv"
      ],
      "execution_count": 0,
      "outputs": []
    },
    {
      "cell_type": "code",
      "metadata": {
        "id": "vV2cUs_gVWoF",
        "colab_type": "code",
        "colab": {}
      },
      "source": [
        "\"\"\"01. Predict with pre-trained SSD models\n",
        "==========================================\n",
        "\n",
        "This article shows how to play with pre-trained SSD models with only a few\n",
        "lines of code.\n",
        "\n",
        "First let's import some necessary libraries:\n",
        "\"\"\"\n",
        "\n",
        "from gluoncv import model_zoo, data, utils\n",
        "from matplotlib import pyplot as plt\n",
        "import numpy as np\n",
        "from tensorflow.keras.preprocessing import image\n",
        "######################################################################\n",
        "# Load a pretrained model\n",
        "# -------------------------\n",
        "#\n",
        "# Let's get an SSD model trained with 512x512 images on Pascal VOC\n",
        "# dataset with ResNet-50 V1 as the base model. By specifying\n",
        "# ``pretrained=True``, it will automatically download the model from the model\n",
        "# zoo if necessary. For more pretrained models, please refer to\n",
        "# :doc:`../../model_zoo/index`.\n",
        "\n",
        "net = model_zoo.get_model('ssd_512_resnet50_v1_voc', pretrained=True)\n",
        "\n",
        "######################################################################\n",
        "# Pre-process an image\n",
        "# --------------------\n",
        "#\n",
        "# Next we download an image, and pre-process with preset data transforms. Here we\n",
        "# specify that we resize the short edge of the image to 512 px. But you can\n",
        "# feed an arbitrarily sized image.\n",
        "#\n",
        "# You can provide a list of image file names, such as ``[im_fname1, im_fname2,\n",
        "# ...]`` to :py:func:`gluoncv.data.transforms.presets.ssd.load_test` if you\n",
        "# want to load multiple image together.\n",
        "#\n",
        "# This function returns two results. The first is a NDArray with shape\n",
        "# `(batch_size, RGB_channels, height, width)`. It can be fed into the\n",
        "# model directly. The second one contains the images in numpy format to\n",
        "# easy to be plotted. Since we only loaded a single image, the first dimension\n",
        "# of `x` is 1.\n",
        "\n",
        "im_fname = utils.download('https://github.com/dmlc/web-data/blob/master/' +\n",
        "                          'gluoncv/detection/biking.jpg?raw=true',\n",
        "                          path='biking.jpg')\n",
        " \n",
        "x, img = data.transforms.presets.ssd.load_test(im_fname, short=512)\n",
        "print('Shape of pre-processed image:', x.shape)\n",
        "\n",
        "######################################################################\n",
        "# Inference and display\n",
        "# ---------------------\n",
        "#\n",
        "# The forward function will return all detected bounding boxes, and the\n",
        "# corresponding predicted class IDs and confidence scores. Their shapes are\n",
        "# `(batch_size, num_bboxes, 1)`, `(batch_size, num_bboxes, 1)`, and\n",
        "# `(batch_size, num_bboxes, 4)`, respectively.\n",
        "#\n",
        "# We can use :py:func:`gluoncv.utils.viz.plot_bbox` to visualize the\n",
        "# results. We slice the results for the first image and feed them into `plot_bbox`:\n",
        "\n",
        "class_IDs, scores, bounding_boxes = net(x)\n",
        "\n",
        "ax = utils.viz.plot_bbox(img, bounding_boxes[0], scores[0],\n",
        "                         class_IDs[0], class_names=net.classes)\n",
        "plt.show()\n"
      ],
      "execution_count": 0,
      "outputs": []
    }
  ]
}