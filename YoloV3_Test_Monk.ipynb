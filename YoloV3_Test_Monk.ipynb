{
  "nbformat": 4,
  "nbformat_minor": 0,
  "metadata": {
    "colab": {
      "name": "YoloV3- Test-Monk",
      "provenance": [],
      "private_outputs": true,
      "collapsed_sections": []
    },
    "kernelspec": {
      "name": "python3",
      "display_name": "Python 3"
    },
    "accelerator": "GPU"
  },
  "cells": [
    {
      "cell_type": "code",
      "metadata": {
        "id": "8-6X2ftarOOD",
        "colab_type": "code",
        "colab": {}
      },
      "source": [
        "from google.colab import drive\n",
        "drive.mount('/content/drive')"
      ],
      "execution_count": 0,
      "outputs": []
    },
    {
      "cell_type": "code",
      "metadata": {
        "id": "mKXobg4LtbLA",
        "colab_type": "code",
        "colab": {}
      },
      "source": [
        "import os\n",
        "os.listdir(\"/content/drive/My Drive\")"
      ],
      "execution_count": 0,
      "outputs": []
    },
    {
      "cell_type": "code",
      "metadata": {
        "id": "8TRH9pzEtj0q",
        "colab_type": "code",
        "colab": {}
      },
      "source": [
        "! unzip -qq /content/drive/My\\ Drive/autodata.zip"
      ],
      "execution_count": 0,
      "outputs": []
    },
    {
      "cell_type": "code",
      "metadata": {
        "id": "tlcf1k1bs7L6",
        "colab_type": "code",
        "colab": {}
      },
      "source": [
        "! git clone https://github.com/Tessellate-Imaging/Monk_Object_Detection.git"
      ],
      "execution_count": 0,
      "outputs": []
    },
    {
      "cell_type": "code",
      "metadata": {
        "id": "_BLPCDqHs7JB",
        "colab_type": "code",
        "colab": {}
      },
      "source": [
        "! cd Monk_Object_Detection/7_yolov3/installation && cat requirements.txt | xargs -n 1 -L 1 pip install"
      ],
      "execution_count": 0,
      "outputs": []
    },
    {
      "cell_type": "code",
      "metadata": {
        "id": "YmrAm3Hgs6-t",
        "colab_type": "code",
        "colab": {}
      },
      "source": [
        "os.getcwd()"
      ],
      "execution_count": 0,
      "outputs": []
    },
    {
      "cell_type": "code",
      "metadata": {
        "id": "5TbsEYxYs4Bi",
        "colab_type": "code",
        "colab": {}
      },
      "source": [
        "! ls -a"
      ],
      "execution_count": 0,
      "outputs": []
    },
    {
      "cell_type": "code",
      "metadata": {
        "id": "5BpAOGCos3_D",
        "colab_type": "code",
        "colab": {}
      },
      "source": [
        "import os\n",
        "import sys\n",
        "sys.path.append(\"Monk_Object_Detection/7_yolov3/lib\");"
      ],
      "execution_count": 0,
      "outputs": []
    },
    {
      "cell_type": "code",
      "metadata": {
        "id": "nHmgGLB7qGgx",
        "colab_type": "code",
        "colab": {}
      },
      "source": [
        ""
      ],
      "execution_count": 0,
      "outputs": []
    },
    {
      "cell_type": "markdown",
      "metadata": {
        "id": "oldQxZYmqIFb",
        "colab_type": "text"
      },
      "source": [
        "        we need to train model to detect .. train_detector from Detector"
      ]
    },
    {
      "cell_type": "code",
      "metadata": {
        "id": "8IZIkWLTs36F",
        "colab_type": "code",
        "colab": {}
      },
      "source": [
        "from train_detector import Detector"
      ],
      "execution_count": 0,
      "outputs": []
    },
    {
      "cell_type": "code",
      "metadata": {
        "id": "GnAPy9_ps320",
        "colab_type": "code",
        "colab": {}
      },
      "source": [
        "gtf = Detector();"
      ],
      "execution_count": 0,
      "outputs": []
    },
    {
      "cell_type": "markdown",
      "metadata": {
        "id": "S4hzNRiNnTV2",
        "colab_type": "text"
      },
      "source": [
        "            When ever your training custom data we need to pass these inforamations \n",
        "            1. Images \n",
        "            2. Annotattion\n",
        "            3. How many im going predict"
      ]
    },
    {
      "cell_type": "code",
      "metadata": {
        "id": "lKIdsJFys3xx",
        "colab_type": "code",
        "colab": {}
      },
      "source": [
        "img_dir = \"autodata/imgs\"; # Specify the path of images\n",
        "label_dir = \"autodata/anns\"; # Specify the path of annonations\n",
        "class_list_file = \"autodata/classes.txt\"# Specifiy the class labels\n",
        "\n",
        "gtf.set_train_dataset(img_dir, label_dir, class_list_file, batch_size=5)\n",
        "gtf.set_val_dataset(img_dir, label_dir)"
      ],
      "execution_count": 0,
      "outputs": []
    },
    {
      "cell_type": "code",
      "metadata": {
        "id": "0GTBmcFQs3sm",
        "colab_type": "code",
        "colab": {}
      },
      "source": [
        "gtf.set_model(model_name=\"yolov3\");"
      ],
      "execution_count": 0,
      "outputs": []
    },
    {
      "cell_type": "code",
      "metadata": {
        "id": "WQWRIJgMs3nP",
        "colab_type": "code",
        "colab": {}
      },
      "source": [
        "gtf.set_hyperparams(optimizer=\"sgd\", lr=0.00579, multi_scale=False, evolve=False);"
      ],
      "execution_count": 0,
      "outputs": []
    },
    {
      "cell_type": "code",
      "metadata": {
        "id": "Xvts7M3zs3kw",
        "colab_type": "code",
        "colab": {}
      },
      "source": [
        "gtf.Train(num_epochs=10);"
      ],
      "execution_count": 0,
      "outputs": []
    },
    {
      "cell_type": "code",
      "metadata": {
        "id": "Sck_Szf2ph6o",
        "colab_type": "code",
        "colab": {}
      },
      "source": [
        "import os\n",
        "import sys\n",
        "from IPython.display import Image\n",
        "sys.path.append(\"Monk_Object_Detection/7_yolov3/lib\");"
      ],
      "execution_count": 0,
      "outputs": []
    },
    {
      "cell_type": "code",
      "metadata": {
        "id": "WK04YIYkp0PM",
        "colab_type": "code",
        "colab": {}
      },
      "source": [
        "from infer_detector import Infer"
      ],
      "execution_count": 0,
      "outputs": []
    },
    {
      "cell_type": "code",
      "metadata": {
        "id": "LRTq4eytpiaY",
        "colab_type": "code",
        "colab": {}
      },
      "source": [
        "gtf = Infer();"
      ],
      "execution_count": 0,
      "outputs": []
    },
    {
      "cell_type": "code",
      "metadata": {
        "id": "WeoIL-Xjp14c",
        "colab_type": "code",
        "colab": {}
      },
      "source": [
        "f = open(\"autodata/classes.txt\");\n",
        "class_list = f.readlines();\n",
        "f.close();"
      ],
      "execution_count": 0,
      "outputs": []
    },
    {
      "cell_type": "code",
      "metadata": {
        "id": "zVUslF9sp4Wc",
        "colab_type": "code",
        "colab": {}
      },
      "source": [
        "model_name = \"yolov3\";\n",
        "weights = \"weights/best.pt\";\n",
        "gtf.Model(model_name, class_list, weights, use_gpu=True, input_size=416);"
      ],
      "execution_count": 0,
      "outputs": []
    },
    {
      "cell_type": "code",
      "metadata": {
        "id": "v8E2T4hip65E",
        "colab_type": "code",
        "colab": {}
      },
      "source": [
        "img_path = \"autodata/imgs/auto_s_1.jpg\";\n",
        "gtf.Predict(img_path, conf_thres=0.2, iou_thres=0.5);\n",
        "Image(filename='output/auto_s_1.jpg')"
      ],
      "execution_count": 0,
      "outputs": []
    },
    {
      "cell_type": "code",
      "metadata": {
        "id": "deTgG1Snp-ac",
        "colab_type": "code",
        "colab": {}
      },
      "source": [
        "img_path = \"autodata/imgs/auto_s_2.jpg\";\n",
        "gtf.Predict(img_path, conf_thres=0.2, iou_thres=0.5);\n",
        "Image(filename='output/auto_s_2.jpg')"
      ],
      "execution_count": 0,
      "outputs": []
    },
    {
      "cell_type": "code",
      "metadata": {
        "id": "WZU7j01PqWZv",
        "colab_type": "code",
        "colab": {}
      },
      "source": [
        "img_path = \"autodata/imgs/auto_s_2000.jpg\";\n",
        "gtf.Predict(img_path, conf_thres=0.2, iou_thres=0.5);\n",
        "Image(filename='output/auto_s_2000.jpg')"
      ],
      "execution_count": 0,
      "outputs": []
    },
    {
      "cell_type": "code",
      "metadata": {
        "id": "YLsvXYUUqhQF",
        "colab_type": "code",
        "colab": {}
      },
      "source": [
        ""
      ],
      "execution_count": 0,
      "outputs": []
    },
    {
      "cell_type": "code",
      "metadata": {
        "id": "dK_VlZchpwAR",
        "colab_type": "code",
        "colab": {}
      },
      "source": [
        ""
      ],
      "execution_count": 0,
      "outputs": []
    }
  ]
}